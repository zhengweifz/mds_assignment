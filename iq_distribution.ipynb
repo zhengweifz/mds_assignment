{
 "cells": [
  {
   "cell_type": "code",
   "execution_count": 1,
   "metadata": {
    "collapsed": true
   },
   "outputs": [],
   "source": [
    "%matplotlib inline"
   ]
  },
  {
   "cell_type": "code",
   "execution_count": 5,
   "metadata": {
    "collapsed": false
   },
   "outputs": [
    {
     "data": {
      "image/png": "[encoded data removed]",
      "text/plain": [
       "<matplotlib.figure.Figure at 0x10875a690>"
      ]
     },
     "metadata": {},
     "output_type": "display_data"
    }
   ],
   "source": [
    "import numpy as np\n",
    "import matplotlib\n",
    "import matplotlib.pyplot as plt\n",
    "mu, sigma = 100, 15\n",
    "x = mu + sigma * np.random.randn(10000)\n",
    "# the histogram of the data\n",
    "n, bins, patches = plt.hist(x, 50, normed=1, color='g', alpha=0.75)\n",
    "plt.xlabel('Smarts')\n",
    "plt.ylabel('Probability')\n",
    "plt.title('Histogram of IQ')\n",
    "plt.text(60, .025, r'$\\mu=100,\\ \\sigma=15$')\n",
    "plt.axis([40, 160, 0, 0.03])\n",
    "plt.grid(True)\n",
    "y = matplotlib.mlab.normpdf(bins, mu, sigma)\n",
    "plt.plot(bins, y, 'k--', linewidth=3, color='r')\n",
    "plt.annotate('theretical dist', xy=(140,.025), xytext=(150,0.030), arrowprops=dict(facecolor='b', shrink=0.05))\n",
    "plt.show()"
   ]
  },
  {
   "cell_type": "code",
   "execution_count": 6,
   "metadata": {
    "collapsed": false
   },
   "outputs": [
    {
     "data": {
      "text/plain": [
       "array([  1.60186010e-05,   2.79658846e-05,   4.77727627e-05,\n",
       "         7.98509285e-05,   1.30595256e-04,   2.08988625e-04,\n",
       "         3.27239495e-04,   5.01367984e-04,   7.51614756e-04,\n",
       "         1.10250817e-03,   1.58239955e-03,   2.22227758e-03,\n",
       "         3.05371340e-03,   4.10587820e-03,   5.40171501e-03,\n",
       "         6.95352612e-03,   8.75843135e-03,   1.07943225e-02,\n",
       "         1.30170407e-02,   1.53594957e-02,   1.77332961e-02,\n",
       "         2.00331754e-02,   2.21440951e-02,   2.39504623e-02,\n",
       "         2.53464815e-02,   2.62463719e-02,   2.65930833e-02,\n",
       "         2.63642806e-02,   2.55747252e-02,   2.42746984e-02,\n",
       "         2.25447035e-02,   2.04872200e-02,   1.82166851e-02,\n",
       "         1.58490592e-02,   1.34922830e-02,   1.12386776e-02,\n",
       "         9.15994369e-03,   7.30496620e-03,   5.70021761e-03,\n",
       "         4.35223641e-03,   3.25148187e-03,   2.37682942e-03,\n",
       "         1.70005319e-03,   1.18980235e-03,   8.14769851e-04,\n",
       "         5.45937463e-04,   3.57930462e-04,   2.29616051e-04,\n",
       "         1.44129753e-04,   8.85223347e-05,   5.31985621e-05])"
      ]
     },
     "execution_count": 6,
     "metadata": {},
     "output_type": "execute_result"
    }
   ],
   "source": [
    "y"
   ]
  },
  {
   "cell_type": "code",
   "execution_count": 7,
   "metadata": {
    "collapsed": false
   },
   "outputs": [
    {
     "data": {
      "text/plain": [
       "array([  42.23628261,   44.44919975,   46.66211689,   48.87503404,\n",
       "         51.08795118,   53.30086832,   55.51378547,   57.72670261,\n",
       "         59.93961975,   62.15253689,   64.36545404,   66.57837118,\n",
       "         68.79128832,   71.00420547,   73.21712261,   75.43003975,\n",
       "         77.6429569 ,   79.85587404,   82.06879118,   84.28170832,\n",
       "         86.49462547,   88.70754261,   90.92045975,   93.1333769 ,\n",
       "         95.34629404,   97.55921118,   99.77212833,  101.98504547,\n",
       "        104.19796261,  106.41087975,  108.6237969 ,  110.83671404,\n",
       "        113.04963118,  115.26254833,  117.47546547,  119.68838261,\n",
       "        121.90129976,  124.1142169 ,  126.32713404,  128.54005118,\n",
       "        130.75296833,  132.96588547,  135.17880261,  137.39171976,\n",
       "        139.6046369 ,  141.81755404,  144.03047119,  146.24338833,\n",
       "        148.45630547,  150.66922261,  152.88213976])"
      ]
     },
     "execution_count": 7,
     "metadata": {},
     "output_type": "execute_result"
    }
   ],
   "source": [
    "bins"
   ]
  },
  {
   "cell_type": "code",
   "execution_count": null,
   "metadata": {
    "collapsed": true
   },
   "outputs": [],
   "source": []
  }
 ],
 "metadata": {
  "kernelspec": {
   "display_name": "Python 2",
   "language": "python",
   "name": "python2"
  },
  "language_info": {
   "codemirror_mode": {
    "name": "ipython",
    "version": 2
   },
   "file_extension": ".py",
   "mimetype": "text/x-python",
   "name": "python",
   "nbconvert_exporter": "python",
   "pygments_lexer": "ipython2",
   "version": "2.7.11"
  }
 },
 "nbformat": 4,
 "nbformat_minor": 0
}
